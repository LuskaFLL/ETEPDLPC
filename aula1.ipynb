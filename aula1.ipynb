{
  "nbformat": 4,
  "nbformat_minor": 0,
  "metadata": {
    "colab": {
      "name": "aula1.ipynb",
      "provenance": [],
      "collapsed_sections": [],
      "authorship_tag": "ABX9TyNvlj1VIkgTeihXykJdDPUy",
      "include_colab_link": true
    },
    "kernelspec": {
      "name": "python3",
      "display_name": "Python 3"
    }
  },
  "cells": [
    {
      "cell_type": "markdown",
      "metadata": {
        "id": "view-in-github",
        "colab_type": "text"
      },
      "source": [
        "<a href=\"https://colab.research.google.com/github/clovesrocha/ETEPDLPC/blob/master/aula1.ipynb\" target=\"_parent\"><img src=\"https://colab.research.google.com/assets/colab-badge.svg\" alt=\"Open In Colab\"/></a>"
      ]
    },
    {
      "cell_type": "code",
      "metadata": {
        "id": "Bpo2amyvJsw9",
        "colab": {
          "base_uri": "https://localhost:8080/",
          "height": 34
        },
        "outputId": "792e11f1-0a60-47ed-a569-b2acb1e9b389"
      },
      "source": [
        "# ETE PORTO DIGITAL\n",
        "# LPC - Introdução à Python\n",
        "# Prof. Cloves Rocha\n",
        "# Estudante: -----\n",
        "\n",
        "# x = 2\n",
        "# print (type(x))\n",
        "\n",
        "# x = 'Olá mundo!'\n",
        "# print(x)\n",
        "# print(type(x))\n",
        "\n",
        "# x = 2\n",
        "# y = 3\n",
        "# print(x == y)\n",
        "\n",
        "# x = 2**3\n",
        "# print (x)\n",
        "\n",
        "# x = (10//3) bug colab\n",
        "# print(x)\n",
        "\n",
        "# x = 10%3 bug colab\n",
        "# print (x)\n",
        "\n",
        "print ('Seja Bem-Vindo(a)')\n",
        "\n"
      ],
      "execution_count": null,
      "outputs": [
        {
          "output_type": "stream",
          "text": [
            "Seja Bem-Vindo(a)\n"
          ],
          "name": "stdout"
        }
      ]
    }
  ]
}