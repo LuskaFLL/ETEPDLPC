{
  "nbformat": 4,
  "nbformat_minor": 0,
  "metadata": {
    "colab": {
      "name": "aula1LPC2021.ipynb",
      "provenance": [],
      "authorship_tag": "ABX9TyMS04exW58Na6LDNFpsQD1+",
      "include_colab_link": true
    },
    "kernelspec": {
      "name": "python3",
      "display_name": "Python 3"
    }
  },
  "cells": [
    {
      "cell_type": "markdown",
      "metadata": {
        "id": "view-in-github",
        "colab_type": "text"
      },
      "source": [
        "<a href=\"https://colab.research.google.com/github/clovesrocha/ETEPDLPC/blob/master/aula1LPC2021.ipynb\" target=\"_parent\"><img src=\"https://colab.research.google.com/assets/colab-badge.svg\" alt=\"Open In Colab\"/></a>"
      ]
    },
    {
      "cell_type": "code",
      "metadata": {
        "colab": {
          "base_uri": "https://localhost:8080/"
        },
        "id": "1ghQuagrSAgF",
        "outputId": "8b7d5b85-e11d-41b1-b2cc-386ee3dbce1e"
      },
      "source": [
        "# ETE PORTO DIGITAL\n",
        "# LPC 2021 - Introdução à Python\n",
        "# Prof. Cloves Rocha\n",
        "# Estudante: ----\n",
        "\n",
        "# x = 5\n",
        "# print(type(x))\n",
        "\n",
        "c = 'Olá mundo LPC!'\n",
        "print(c)\n",
        "print(type(x))\n"
      ],
      "execution_count": 6,
      "outputs": [
        {
          "output_type": "stream",
          "text": [
            "Olá mundo LPC!\n",
            "<class 'int'>\n"
          ],
          "name": "stdout"
        }
      ]
    }
  ]
}